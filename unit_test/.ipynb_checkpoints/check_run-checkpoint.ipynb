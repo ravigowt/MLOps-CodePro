{
 "cells": [
  {
   "cell_type": "code",
   "execution_count": 1,
   "id": "998dac07-470b-41b6-9048-9dae5080054c",
   "metadata": {},
   "outputs": [
    {
     "name": "stdout",
     "output_type": "stream",
     "text": [
      "DB Already Exsist\n",
      "/home/lead_scoring_data_pipeline/scripts/unit_test\n",
      "loaded_data already populated\n",
      "city_tier_mapped already populated\n",
      "categorical_variables_mapped already Stored\n",
      "model_input and interactions_mapped already stored\n",
      "DB Already Exsist\n",
      "/home/lead_scoring_data_pipeline/scripts/unit_test\n",
      "loaded_data already populated\n"
     ]
    }
   ],
   "source": [
    "from utils import *\n",
    "from test_with_pytest import *\n",
    "build_dbs()\n",
    "load_data_into_db()\n",
    "map_city_tier()\n",
    "map_categorical_vars()\n",
    "interactions_mapping()\n",
    "test_load_data_into_db()"
   ]
  },
  {
   "cell_type": "code",
   "execution_count": 2,
   "id": "89277713-ebfd-462f-9a8d-ae4f1a19923c",
   "metadata": {},
   "outputs": [
    {
     "name": "stdout",
     "output_type": "stream",
     "text": [
      "DB Already Exsist\n",
      "/home/lead_scoring_data_pipeline/scripts/unit_test\n",
      "loaded_data already populated\n",
      "city_tier_mapped already populated\n"
     ]
    }
   ],
   "source": [
    "test_map_city_tier()"
   ]
  },
  {
   "cell_type": "code",
   "execution_count": 3,
   "id": "49382fde-69a5-45c8-8a9c-44672a8af015",
   "metadata": {},
   "outputs": [
    {
     "data": {
      "text/plain": [
       "<function test_with_pytest.test_map_categorical_vars()>"
      ]
     },
     "execution_count": 3,
     "metadata": {},
     "output_type": "execute_result"
    }
   ],
   "source": [
    "test_map_categorical_vars"
   ]
  },
  {
   "cell_type": "code",
   "execution_count": 4,
   "id": "9df50199-c53b-4b02-9e0a-1374ba4b2e8f",
   "metadata": {},
   "outputs": [
    {
     "name": "stdout",
     "output_type": "stream",
     "text": [
      "DB Already Exsist\n",
      "/home/lead_scoring_data_pipeline/scripts/unit_test\n",
      "loaded_data already populated\n",
      "city_tier_mapped already populated\n",
      "categorical_variables_mapped already Stored\n"
     ]
    }
   ],
   "source": [
    "test_map_categorical_vars()"
   ]
  },
  {
   "cell_type": "code",
   "execution_count": 5,
   "id": "45064264-5461-4b66-a090-fb963c56a8a6",
   "metadata": {},
   "outputs": [
    {
     "name": "stdout",
     "output_type": "stream",
     "text": [
      "DB Already Exsist\n",
      "/home/lead_scoring_data_pipeline/scripts/unit_test\n",
      "loaded_data already populated\n",
      "city_tier_mapped already populated\n",
      "categorical_variables_mapped already Stored\n",
      "model_input and interactions_mapped already stored\n"
     ]
    }
   ],
   "source": [
    "test_interactions_mapping()"
   ]
  },
  {
   "cell_type": "code",
   "execution_count": null,
   "id": "8ae14161-80e2-4db6-b09b-58c521f7dae4",
   "metadata": {},
   "outputs": [],
   "source": []
  }
 ],
 "metadata": {
  "kernelspec": {
   "display_name": "Python 3 (ipykernel)",
   "language": "python",
   "name": "python3"
  },
  "language_info": {
   "codemirror_mode": {
    "name": "ipython",
    "version": 3
   },
   "file_extension": ".py",
   "mimetype": "text/x-python",
   "name": "python",
   "nbconvert_exporter": "python",
   "pygments_lexer": "ipython3",
   "version": "3.8.12"
  }
 },
 "nbformat": 4,
 "nbformat_minor": 5
}
